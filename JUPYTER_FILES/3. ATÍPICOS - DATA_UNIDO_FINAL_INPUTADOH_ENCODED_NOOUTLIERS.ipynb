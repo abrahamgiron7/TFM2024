{
 "cells": [
  {
   "cell_type": "markdown",
   "id": "46559bd5",
   "metadata": {},
   "source": [
    "# Importaciones"
   ]
  },
  {
   "cell_type": "code",
   "execution_count": 7,
   "id": "98bf4803",
   "metadata": {
    "ExecuteTime": {
     "end_time": "2024-06-20T20:19:29.643052Z",
     "start_time": "2024-06-20T20:19:29.262646Z"
    }
   },
   "outputs": [],
   "source": [
    "import pandas as pd\n",
    "import numpy as np\n",
    "from scipy.stats.mstats import winsorize"
   ]
  },
  {
   "cell_type": "markdown",
   "id": "c1fcff65",
   "metadata": {},
   "source": [
    "# Evaluamos los outliers del conjunto de datos\n",
    "Al tratarse de un conjunto de datos muy pequeño, se decide considerar únicamente los percentiles 1 y 99."
   ]
  },
  {
   "cell_type": "code",
   "execution_count": 5,
   "id": "108357ee",
   "metadata": {
    "ExecuteTime": {
     "end_time": "2024-06-20T20:17:27.663681Z",
     "start_time": "2024-06-20T20:17:27.651675Z"
    }
   },
   "outputs": [],
   "source": [
    "# Cargar el dataset\n",
    "df = pd.read_csv(r'DATA_UNIDO_FINAL_INPUTADOH_ENCODED.csv')"
   ]
  },
  {
   "cell_type": "code",
   "execution_count": 6,
   "id": "8d6cf1ee",
   "metadata": {
    "ExecuteTime": {
     "end_time": "2024-06-20T20:18:13.266392Z",
     "start_time": "2024-06-20T20:18:13.191770Z"
    }
   },
   "outputs": [
    {
     "name": "stdout",
     "output_type": "stream",
     "text": [
      "Columna 'ID' tiene 2 outliers.\n",
      "Columna '1ESO_C_1EV' tiene 1 outliers.\n",
      "Columna '1ESO_C_2EV' tiene 1 outliers.\n",
      "Columna '1ESO_C_EVF' tiene 2 outliers.\n",
      "Columna '1ESO_EF_1EV' tiene 1 outliers.\n",
      "Columna '1ESO_EF_EVF' tiene 1 outliers.\n",
      "Columna '1ESO_I_2EV' tiene 2 outliers.\n",
      "Columna '1ESO_M_1EV' tiene 1 outliers.\n",
      "Columna '1ESO_M_EVF' tiene 1 outliers.\n",
      "Columna '1ESO_MEDIA_1EV' tiene 2 outliers.\n",
      "Columna '1ESO_MEDIA_2EV' tiene 1 outliers.\n",
      "Columna '2ESO_EF_2EV' tiene 2 outliers.\n",
      "Columna '2ESO_EF_EVF' tiene 1 outliers.\n",
      "Columna '2ESO_I_1EV' tiene 1 outliers.\n",
      "Columna '2ESO_I_2EV' tiene 1 outliers.\n",
      "Columna '2ESO_I_EVF' tiene 2 outliers.\n",
      "Columna '2ESO_M_1EV' tiene 1 outliers.\n",
      "Columna '2ESO_M_2EV' tiene 1 outliers.\n",
      "Columna '2ESO_M_EVF' tiene 1 outliers.\n",
      "Columna '2ESO_MEDIA_1EV' tiene 1 outliers.\n",
      "Columna '1FPB_MEDIA_1EV' tiene 2 outliers.\n",
      "Columna '1FPB_MEDIA_2EV' tiene 2 outliers.\n",
      "Columna '1FPB_MEDIA_EVF' tiene 2 outliers.\n",
      "Columna '1FPB_P_1EV' tiene 1 outliers.\n",
      "Columna '1FPB_P_2EV' tiene 2 outliers.\n",
      "Columna '1FPB_P_EVF' tiene 2 outliers.\n",
      "Columna '1FPB_CA_1EV' tiene 1 outliers.\n",
      "Columna '1FPB_CA_2EV' tiene 1 outliers.\n",
      "Columna '1FPB_CA_EVF' tiene 1 outliers.\n",
      "Columna '1FPB_CS_1EV' tiene 2 outliers.\n",
      "Columna '1FPB_CS_2EV' tiene 2 outliers.\n",
      "Columna '1FPB_CS_EVF' tiene 1 outliers.\n",
      "Columna 'REC_2EV' tiene 1 outliers.\n",
      "\n",
      "Columnas que tienen outliers:\n",
      "['ID', '1ESO_C_1EV', '1ESO_C_2EV', '1ESO_C_EVF', '1ESO_EF_1EV', '1ESO_EF_EVF', '1ESO_I_2EV', '1ESO_M_1EV', '1ESO_M_EVF', '1ESO_MEDIA_1EV', '1ESO_MEDIA_2EV', '2ESO_EF_2EV', '2ESO_EF_EVF', '2ESO_I_1EV', '2ESO_I_2EV', '2ESO_I_EVF', '2ESO_M_1EV', '2ESO_M_2EV', '2ESO_M_EVF', '2ESO_MEDIA_1EV', '1FPB_MEDIA_1EV', '1FPB_MEDIA_2EV', '1FPB_MEDIA_EVF', '1FPB_P_1EV', '1FPB_P_2EV', '1FPB_P_EVF', '1FPB_CA_1EV', '1FPB_CA_2EV', '1FPB_CA_EVF', '1FPB_CS_1EV', '1FPB_CS_2EV', '1FPB_CS_EVF', 'REC_2EV']\n"
     ]
    }
   ],
   "source": [
    "# Crear un DataFrame para almacenar los outliers\n",
    "outliers = pd.DataFrame()\n",
    "\n",
    "# Diccionario para almacenar columnas con outliers\n",
    "columnas_con_outliers = {}\n",
    "\n",
    "# Identificar las columnas que no son resultado de One Hot Encoding\n",
    "columnas_no_one_hot = [col for col in df.columns if not set(df[col].dropna().unique()).issubset({0, 1})]\n",
    "\n",
    "# Calcular outliers para cada columna numérica que no sea One Hot Encoded\n",
    "for column in df[columnas_no_one_hot].select_dtypes(include=['float64', 'int64']).columns:\n",
    "    lower_bound = df[column].quantile(0.01)\n",
    "    upper_bound = df[column].quantile(0.99)\n",
    "    \n",
    "    # Identificar los outliers utilizando los límites de los percentiles\n",
    "    outliers[column] = ((df[column] < lower_bound) | (df[column] > upper_bound))\n",
    "    \n",
    "    # Añadir la columna al diccionario si tiene outliers\n",
    "    if outliers[column].any():\n",
    "        columnas_con_outliers[column] = df[column][outliers[column]]\n",
    "\n",
    "# Mostrar el resumen de las columnas con outliers\n",
    "for col, outliers in columnas_con_outliers.items():\n",
    "    print(f\"Columna '{col}' tiene {len(outliers)} outliers.\")\n",
    "\n",
    "# Mostrar las columnas con outliers\n",
    "print(\"\\nColumnas que tienen outliers:\")\n",
    "print(list(columnas_con_outliers.keys()))"
   ]
  },
  {
   "cell_type": "markdown",
   "id": "f58cd79a",
   "metadata": {},
   "source": [
    "# Tratamiento de atípicos - Winsorización\n",
    "El método de winsorización consiste en sustituir los valores extremos de un conjunto de datos por los valores correspondientes a los percentiles previamente seleccionados."
   ]
  },
  {
   "cell_type": "code",
   "execution_count": 15,
   "id": "55f18170",
   "metadata": {
    "ExecuteTime": {
     "end_time": "2024-06-20T20:23:22.791042Z",
     "start_time": "2024-06-20T20:23:22.726042Z"
    }
   },
   "outputs": [
    {
     "name": "stdout",
     "output_type": "stream",
     "text": [
      "Column: ID, Lower Bound: 1.3, Upper Bound: 35.7\n",
      "Column: 1ESO_C_1EV, Lower Bound: 2.0, Upper Bound: 6.699999999999999\n",
      "Column: 1ESO_C_2EV, Lower Bound: 1.3, Upper Bound: 5.0\n",
      "Column: 1ESO_C_EVF, Lower Bound: 2.3, Upper Bound: 7.699999999999999\n",
      "Column: 1ESO_EF_1EV, Lower Bound: 1.3, Upper Bound: 7.0\n",
      "Column: 1ESO_EF_EVF, Lower Bound: 3.0, Upper Bound: 7.699999999999999\n",
      "Column: 1ESO_I_2EV, Lower Bound: 1.3, Upper Bound: 6.399999999999999\n",
      "Column: 1ESO_M_1EV, Lower Bound: 1.0, Upper Bound: 7.699999999999999\n",
      "Column: 1ESO_M_EVF, Lower Bound: 2.3, Upper Bound: 7.0\n",
      "Column: 1ESO_MEDIA_1EV, Lower Bound: 2.3, Upper Bound: 5.699999999999999\n",
      "Column: 1ESO_MEDIA_2EV, Lower Bound: 3.3, Upper Bound: 6.0\n",
      "Column: 2ESO_EF_2EV, Lower Bound: 2.3, Upper Bound: 8.7\n",
      "Column: 2ESO_EF_EVF, Lower Bound: 3.6, Upper Bound: 9.0\n",
      "Column: 2ESO_I_1EV, Lower Bound: 1.0, Upper Bound: 6.699999999999999\n",
      "Column: 2ESO_I_2EV, Lower Bound: 1.0, Upper Bound: 7.399999999999999\n",
      "Column: 2ESO_I_EVF, Lower Bound: 1.3, Upper Bound: 6.699999999999999\n",
      "Column: 2ESO_M_1EV, Lower Bound: 1.0, Upper Bound: 8.099999999999998\n",
      "Column: 2ESO_M_2EV, Lower Bound: 1.0, Upper Bound: 8.399999999999999\n",
      "Column: 2ESO_M_EVF, Lower Bound: 1.0, Upper Bound: 8.799999999999997\n",
      "Column: 2ESO_MEDIA_1EV, Lower Bound: 2.3, Upper Bound: 6.0\n",
      "Column: 1FPB_MEDIA_1EV, Lower Bound: 2.88331, Upper Bound: 7.799989999999999\n",
      "Column: 1FPB_MEDIA_2EV, Lower Bound: 2.35001, Upper Bound: 8.28332\n",
      "Column: 1FPB_MEDIA_EVF, Lower Bound: 3.38331, Upper Bound: 8.31669\n",
      "Column: 1FPB_P_1EV, Lower Bound: 2.3, Upper Bound: 8.0\n",
      "Column: 1FPB_P_2EV, Lower Bound: 1.3, Upper Bound: 9.7\n",
      "Column: 1FPB_P_EVF, Lower Bound: 2.3, Upper Bound: 8.7\n",
      "Column: 1FPB_CA_1EV, Lower Bound: 3.3, Upper Bound: 8.0\n",
      "Column: 1FPB_CA_2EV, Lower Bound: 2.0, Upper Bound: 8.7\n",
      "Column: 1FPB_CA_EVF, Lower Bound: 2.9, Upper Bound: 8.0\n",
      "Column: 1FPB_CS_1EV, Lower Bound: 2.3, Upper Bound: 8.399999999999999\n",
      "Column: 1FPB_CS_2EV, Lower Bound: 2.3, Upper Bound: 8.399999999999999\n",
      "Column: 1FPB_CS_EVF, Lower Bound: 3.0, Upper Bound: 9.399999999999999\n",
      "Column: REC_2EV, Lower Bound: 0.0, Upper Bound: 3.6999999999999993\n",
      "DataFrame winsorizado:\n",
      "     ID  A_FECHA_NAC  A_PAIS_MALI  A_PAIS_ESPAÑA  A_PAIS_COLOMBIA  \\\n",
      "0    1         2006            1              0                0   \n",
      "1    2         2007            0              1                0   \n",
      "2    3         2008            0              0                1   \n",
      "3    4         2007            0              0                0   \n",
      "4    5         2008            0              0                0   \n",
      "5    6         2007            0              1                0   \n",
      "6    7         2007            0              1                0   \n",
      "7    8         2007            0              1                0   \n",
      "8    9         2007            0              0                0   \n",
      "9   10         2007            0              0                0   \n",
      "10  11         2008            0              1                0   \n",
      "11  11         2008            0              1                0   \n",
      "12  12         2008            0              1                0   \n",
      "13  13         2006            0              1                0   \n",
      "14  14         2007            0              1                0   \n",
      "15  16         2008            0              0                0   \n",
      "16  17         2005            0              0                1   \n",
      "17  18         2006            0              1                0   \n",
      "18  19         2007            0              1                0   \n",
      "19  20         2006            0              0                0   \n",
      "20  25         2007            0              0                0   \n",
      "21  26         2006            0              1                0   \n",
      "22  27         2006            0              1                0   \n",
      "23  28         2007            0              1                0   \n",
      "24  29         2007            0              1                0   \n",
      "25  30         2007            0              1                0   \n",
      "26  31         2007            0              1                0   \n",
      "27  32         2007            0              1                0   \n",
      "28  34         2006            0              1                0   \n",
      "29  35         2005            0              0                0   \n",
      "30  36         2006            0              1                0   \n",
      "\n",
      "    A_PAIS_MARRUECOS  A_PAIS_ECUADOR  A_PAIS_CHINA  A_PAIS_RUMANIA  \\\n",
      "0                  0               0             0               0   \n",
      "1                  0               0             0               0   \n",
      "2                  0               0             0               0   \n",
      "3                  1               0             0               0   \n",
      "4                  1               0             0               0   \n",
      "5                  0               0             0               0   \n",
      "6                  0               0             0               0   \n",
      "7                  0               0             0               0   \n",
      "8                  1               0             0               0   \n",
      "9                  1               0             0               0   \n",
      "10                 0               0             0               0   \n",
      "11                 0               0             0               0   \n",
      "12                 0               0             0               0   \n",
      "13                 0               0             0               0   \n",
      "14                 0               0             0               0   \n",
      "15                 0               1             0               0   \n",
      "16                 0               0             0               0   \n",
      "17                 0               0             0               0   \n",
      "18                 0               0             0               0   \n",
      "19                 0               0             1               0   \n",
      "20                 1               0             0               0   \n",
      "21                 0               0             0               0   \n",
      "22                 0               0             0               0   \n",
      "23                 0               0             0               0   \n",
      "24                 0               0             0               0   \n",
      "25                 0               0             0               0   \n",
      "26                 0               0             0               0   \n",
      "27                 0               0             0               0   \n",
      "28                 0               0             0               0   \n",
      "29                 0               0             0               1   \n",
      "30                 0               0             0               0   \n",
      "\n",
      "    A_IDIOMA_NVL  ...  1FPB_CS_1EV  1FPB_CS_2EV  1FPB_CS_EVF  REP_1ESO  \\\n",
      "0              1  ...          6.0          5.0          5.0         0   \n",
      "1              3  ...          5.0          5.0          5.0         0   \n",
      "2              3  ...          6.0          5.0          6.0         0   \n",
      "3              2  ...          5.0          5.0          6.0         1   \n",
      "4              2  ...          6.0          7.0          8.0         0   \n",
      "5              3  ...          5.0          5.0          4.0         0   \n",
      "6              3  ...          5.0          3.0          6.0         0   \n",
      "7              3  ...          9.0          9.0         10.0         0   \n",
      "8              1  ...          2.0          4.0          3.0         1   \n",
      "9              2  ...          6.0          7.0          7.0         0   \n",
      "10             3  ...          5.0          4.0          3.0         0   \n",
      "11             3  ...          5.0          4.0          3.0         0   \n",
      "12             2  ...          4.0          4.0          3.0         0   \n",
      "13             3  ...          7.0          3.0          6.0         0   \n",
      "14             3  ...          4.0          4.0          5.0         0   \n",
      "15             3  ...          5.0          4.0          3.0         0   \n",
      "16             3  ...          5.0          5.0          4.0         0   \n",
      "17             2  ...          5.0          3.0          5.0         1   \n",
      "18             3  ...          7.0          7.0          6.0         0   \n",
      "19             1  ...          4.0          4.0          4.0         1   \n",
      "20             2  ...          6.0          6.0          7.0         0   \n",
      "21             3  ...          3.0          2.0          3.0         0   \n",
      "22             3  ...          4.0          3.0          3.0         0   \n",
      "23             3  ...          6.0          4.0          6.0         0   \n",
      "24             3  ...          7.0          6.0          7.0         0   \n",
      "25             3  ...          7.0          6.0          6.0         0   \n",
      "26             3  ...          7.0          6.0          6.0         1   \n",
      "27             3  ...          5.0          5.0          6.0         1   \n",
      "28             3  ...          5.0          5.0          5.0         1   \n",
      "29             3  ...          5.0          6.0          6.0         0   \n",
      "30             3  ...          6.0          6.0          6.0         1   \n",
      "\n",
      "    REP_2ESO  REP_1FPB  REC_1EV  REC_2EV  REC_EVEX  PROMOCIONA  \n",
      "0          0         0      2.0      0.0       1.0           0  \n",
      "1          0         1      4.0      4.0       2.0           0  \n",
      "2          0         0      0.0      0.0       1.0           1  \n",
      "3          0         0      2.0      0.0       2.0           1  \n",
      "4          0         0      0.0      0.0       0.0           1  \n",
      "5          0         1      2.0      3.0       5.0           0  \n",
      "6          0         0      0.0      0.0       3.0           1  \n",
      "7          0         0      0.0      0.0       0.0           1  \n",
      "8          0         0      2.0      1.0       2.0           0  \n",
      "9          0         0      0.0      0.0       0.0           1  \n",
      "10         1         0      1.0      0.0       1.0           1  \n",
      "11         1         0      1.0      0.0       1.0           1  \n",
      "12         0         0      2.0      1.0       4.0           0  \n",
      "13         0         0      0.0      2.0       0.0           1  \n",
      "14         1         1      4.0      2.0       6.0           0  \n",
      "15         0         0      1.0      0.0       2.0           0  \n",
      "16         0         0      2.0      1.0       2.0           0  \n",
      "17         1         0      2.0      1.0       6.0           0  \n",
      "18         1         0      1.0      1.0       1.0           1  \n",
      "19         0         1      2.0      1.0       4.0           0  \n",
      "20         0         0      2.0      0.0       1.0           1  \n",
      "21         0         0      0.0      0.0       2.0           1  \n",
      "22         0         1      0.0      0.0       6.0           0  \n",
      "23         0         0      1.0      0.0       2.0           1  \n",
      "24         0         0      0.0      0.0       1.0           1  \n",
      "25         0         0      3.0      2.0       3.0           1  \n",
      "26         0         0      1.0      0.0       0.0           1  \n",
      "27         0         0      1.0      2.0       3.0           1  \n",
      "28         0         1      1.0      1.0       5.0           0  \n",
      "29         0         0      0.0      0.0       0.0           1  \n",
      "30         1         0      2.0      1.0       3.0           1  \n",
      "\n",
      "[31 rows x 93 columns]\n"
     ]
    },
    {
     "name": "stderr",
     "output_type": "stream",
     "text": [
      "C:\\Users\\abrah\\anaconda3\\lib\\site-packages\\numpy\\lib\\function_base.py:4824: UserWarning: Warning: 'partition' will ignore the 'mask' of the MaskedArray.\n",
      "  arr.partition(\n"
     ]
    }
   ],
   "source": [
    "# DataFrame para almacenar los valores winsorizados\n",
    "df_winsorized = df.copy()\n",
    "\n",
    "# Aplicar la winsorización usando percentiles\n",
    "for column in columnas_con_outliers:\n",
    "    lower_bound = df[column].quantile(0.01)\n",
    "    upper_bound = df[column].quantile(0.99)\n",
    "    \n",
    "    # Imprimir los límites para la verificación\n",
    "    print(f\"Column: {column}, Lower Bound: {lower_bound}, Upper Bound: {upper_bound}\")\n",
    "    \n",
    "    # Winsorizar los valores fuera de los límites usando percentiles\n",
    "    df_winsorized[column] = winsorize(df[column], limits=[0.01, 0.01]) #1% por arriba y por abajo\n",
    "\n",
    "# Mostrar el DataFrame winsorizado\n",
    "print(\"DataFrame winsorizado:\\n\", df_winsorized)"
   ]
  },
  {
   "cell_type": "markdown",
   "id": "589b92f6",
   "metadata": {},
   "source": [
    "# Guardado del nuevo dataset sin atípicos en csv como 'DATA_UNIDO_FINAL_INPUTADOH_ENCODED_NOOUTLIERS.csv'"
   ]
  },
  {
   "cell_type": "code",
   "execution_count": 16,
   "id": "39a3edc8",
   "metadata": {
    "ExecuteTime": {
     "end_time": "2024-06-20T20:24:18.649946Z",
     "start_time": "2024-06-20T20:24:18.639871Z"
    }
   },
   "outputs": [],
   "source": [
    "# Guarda el DataFrame en un archivo CSV\n",
    "archivo_csv = 'DATA_UNIDO_FINAL_INPUTADOH_ENCODED_NOOUTLIERS.csv'\n",
    "df.to_csv(archivo_csv, index=False)"
   ]
  }
 ],
 "metadata": {
  "kernelspec": {
   "display_name": "Python 3 (ipykernel)",
   "language": "python",
   "name": "python3"
  },
  "language_info": {
   "codemirror_mode": {
    "name": "ipython",
    "version": 3
   },
   "file_extension": ".py",
   "mimetype": "text/x-python",
   "name": "python",
   "nbconvert_exporter": "python",
   "pygments_lexer": "ipython3",
   "version": "3.9.0"
  },
  "toc": {
   "base_numbering": 1,
   "nav_menu": {},
   "number_sections": true,
   "sideBar": true,
   "skip_h1_title": false,
   "title_cell": "Table of Contents",
   "title_sidebar": "Contents",
   "toc_cell": false,
   "toc_position": {},
   "toc_section_display": true,
   "toc_window_display": false
  }
 },
 "nbformat": 4,
 "nbformat_minor": 5
}
